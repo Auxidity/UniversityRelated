{
 "cells": [
  {
   "cell_type": "markdown",
   "id": "0ad54899-140f-4757-a2ea-135792826ce8",
   "metadata": {},
   "source": [
    "# Tasks for week 4\n",
    "\n",
    "In these exercises, we are going deeper with the idea of recursion and iteration.\n",
    "\n",
    "We will also try to bring in the idea of writing different implementations to the same problem, comparing the efficiency of the different versions. The ultimate goal is not to find every single way of implementation, it is good enough to compare at least two different ways.\n",
    "\n",
    "The aim here is, first of all, to enhance flexible problem solving skills. The most intuitive one is the easiest to implement but probably not the most efficient one. That is why it is necessary to also try discovering other solutions to the same problem."
   ]
  },
  {
   "cell_type": "markdown",
   "id": "539758a5-4604-4f69-a21d-2168d9f9dad8",
   "metadata": {},
   "source": [
    "## Task 1 Palindrome checker\n",
    "\n",
    "A number or a string is s palindrome, if they read the same forwards and backwards.\n",
    "\n",
    "For example 1234321 is a number palindrome and *madam* is a string palindrome.\n",
    "\n",
    "\n",
    "**Your task** is to write an algorithm *isPal(phrase)* that returns **True** if the input is a palindrome and **False** otherwise.\n",
    "\n",
    "There are several ways to implement palindrome checker:\n",
    "1) reverse the original sequence and checking whether the reversed is the same as the original, element by element\n",
    "2) reverse the original and comparing, using string operations (also for numbers)\n",
    "3) comparing the elements from the same place in opposite ends\n",
    "\n",
    "Implement these in the way you find to be most optimal, both in time and space complexity.\n"
   ]
  },
  {
   "cell_type": "markdown",
   "id": "b2b1123f-5853-4804-8131-0d558af78e9b",
   "metadata": {},
   "source": [
    "## Task 2 Array checker\n",
    "\n",
    "Two arrays are considered to be the same, \n",
    "1) if the arrays are of the same length, and\n",
    "2) if same elements occur in both arrays equally frequently. \n",
    "\n",
    "The order of items in the arrays may though vary. For example, the array $[1,2,3,3,4,5,5,5,6]$ is equal to the array $[6,3,2,5,3,1,5,4,5]$, since there is one of 1's, 2's, 4's and 6's in both arrays, two 3's and three 5's. However, arrays $[1,2,3]$ and $[1,2,2]$ are not the same, since the length of both arrays is the same 3, but the last element of the arrays differ.\n",
    "\n",
    "Thus, the algorithm **check(A,B)** should work as follows.\n",
    "\n",
    "### Example 1:\n",
    "**INPUT:**\n",
    "\n",
    "A = [1,2,3,3,4,5,5,5,6]\n",
    "\n",
    "B = [6,3,2,5,3,1,5,4,5]\n",
    "\n",
    "**OUTPUT: ** *True* or *1*\n",
    "\n",
    "**EXPLANATION: ** *All elements occur equally frequently, but are just ordered differently*\n",
    "\n",
    "### Example 2:\n",
    "**INPUT:**\n",
    "\n",
    "A = [1,2,3]\n",
    "\n",
    "B = [1,2,2]\n",
    "\n",
    "**OUTPUT: ** *False* or *0*\n",
    "\n",
    "**EXPLANATION: ** *The last elements are not equal, other elements are.*\n",
    "\n",
    "<span style=\"color:red\"> **Your Task:** Complete check() function which takes both the given array and their size as function arguments and returns true if the arrays are equal else returns false.\n",
    "</span>\n",
    "\n"
   ]
  },
  {
   "cell_type": "markdown",
   "id": "dd33685e-fb64-4d5b-bb11-6b2e5a705bf2",
   "metadata": {},
   "source": [
    "## Task 3: Copying a string\n",
    "\n",
    "This algorithm takes two strings as input. The algorithm copies the first string to the other, as in the following examples:\n",
    "\n",
    "**INPUT:**\n",
    "\n",
    "s1 = \"hello\"\n",
    "\n",
    "s2 = \"world\"\n",
    "\n",
    "**OUTPUT: **\n",
    "\n",
    "s1 = \"hello\"\n",
    "\n",
    "s2 = \"hello\"\n",
    "\n",
    "or\n",
    "\n",
    "**INPUT: **\n",
    "\n",
    "s1 = \"chuck norris\"\n",
    "\n",
    "s2 = \" \"\n",
    "\n",
    "**OUTPUT: **\n",
    "\n",
    "s1 = \"chuck norris\"\n",
    "\n",
    "s2 = \"chuck norris\"\n",
    "\n",
    "### Your task\n",
    "\n",
    "Implement the copying algorithm in different ways using iteration and recursion. You can also try to find other ways of copying a string **without harming the original string**. Compare the algorithms in terms of running time.\n"
   ]
  },
  {
   "cell_type": "markdown",
   "id": "7b10a44b-1ad7-44c9-a965-c3801bdb17b0",
   "metadata": {},
   "source": [
    "## Task 4: kth smallest element\n",
    "\n",
    "Suppose that you are given an integer array of size $n$. The algorithm takes the array as input, natural number $k<n$ as another input, and returns the kth smallest element in the list and the index of the first occurrence of this item.\n",
    "\n",
    "As an example, consider array A = [3,6,4,7,2,4,6,8]. If k=3, you are supposed to find the third smallest element in the array. The output of the algorithm with input A and 3 should be (4, 2), since 2 is the smallest element in the array, the second smallest is 3 with index 0, and the third smallest is 4 at index position 2.\n",
    "\n",
    "Implement this algorithm in different ways (recirsive) and compare different implementation runtimes."
   ]
  },
  {
   "cell_type": "markdown",
   "id": "a6a09551-c504-4ca0-905f-7e8d57d0027e",
   "metadata": {},
   "source": [
    "## Task 5: Longest common prefix\n",
    "\n",
    "Consider having a set of strings. Your task is to find the longest common prefix in the set of these strings, i.e. a substring which is at the beginning of each string and is the longest common such substring.\n",
    "\n",
    "### Example\n",
    "\n",
    "Let the set of strings consist of words *autokauppa*, *autonkuljettaja*, *auttaja* ja *aurinko*.\n",
    "The algorithm takes these four strings as input.\n",
    "\n",
    "The two first strings share **auto** as a common prefix: **auto**kauppa, **auto**nkuljettaja.\n",
    "\n",
    "However, *auttaja* does not begin with **auto**, but has **aut** in the beginning. Thus, the longest common prefix of these three words would be **aut**.\n",
    "\n",
    "The fourth word does not have **aut** as its prefix. However, **au** is a common prefix of all four words.\n",
    "\n",
    "Thus, the output for the words *autokauppa*, *autonkuljettaja*, *auttaja* and *aurinko* is **au**.\n",
    "\n",
    "### Your task\n",
    "\n",
    "Implement the algorithm lcp(strings) taking an array of strings as input. The algorithm returns the longest common prefix of the strings in the array. Consider different implementations of the same algorithm (recursive and iterative, char by char matching,...) and compare their runtimes."
   ]
  }
 ],
 "metadata": {
  "kernelspec": {
   "display_name": "Python 3 (ipykernel)",
   "language": "python",
   "name": "python3"
  },
  "language_info": {
   "codemirror_mode": {
    "name": "ipython",
    "version": 3
   },
   "file_extension": ".py",
   "mimetype": "text/x-python",
   "name": "python",
   "nbconvert_exporter": "python",
   "pygments_lexer": "ipython3",
   "version": "3.9.16"
  }
 },
 "nbformat": 4,
 "nbformat_minor": 5
}
