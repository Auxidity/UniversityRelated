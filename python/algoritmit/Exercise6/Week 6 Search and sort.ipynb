{
 "cells": [
  {
   "cell_type": "markdown",
   "id": "7783e3a4-04a9-42ce-a546-55bfc5041e95",
   "metadata": {},
   "source": [
    "# Search and sorting algorithms\n",
    "\n",
    "In this lecture, we will learn\n",
    "* introduction to sorting algorithms\n",
    "* introduction to search algorithms\n",
    "* practical examples\n",
    "\n",
    "## Search, sort - what's the difference?\n",
    "\n",
    "**Sorting:** The process of arranging data in a specified order, typically in ascending or descending order, to facilitate faster searching or to make the data more readable.\n",
    "\n",
    "**Searching:** The process of finding a specific item in a collection of items. It involves determining whether the desired item is present and, if so, its location.\n",
    "\n",
    "**Difference:** Sorting prepares data for efficient search operations, while searching is the process of locating specific data within a dataset.\n",
    "\n",
    "For example, if the data structure is a list, you might want to:\n",
    "* know what data is located in certain list index (search by index)\n",
    "* know where certain data is located in your data structure (i.e. finding the index)\n",
    "\n",
    "\n",
    "### Types of search algorithms\n",
    "* Linear search\n",
    "* Binary search\n",
    "* Interpolation search\n",
    "\n",
    "Description: A simple search algorithm that checks every element in the list sequentially until the desired element is found.\n",
    "\n",
    "```python\n",
    "def linear_search(arr, x):\n",
    "    for i in range(len(arr)):\n",
    "        if arr[i] == x:\n",
    "            return i\n",
    "    return -1\n",
    "```\n",
    "\n",
    "### Time and space complexity\n",
    "\n",
    "The name of this algorithm is linear search, since it linearly scans the entire list from the start index to the end index. At worst, the algorithm needs to go through all $n$ elements in the list, meaning that in the worst case the algorithm takes $n$ steps before returning the result. Thus, the time complexity of this algorithm is $\\mathcal{O}(n)$ (linear time)."
   ]
  },
  {
   "cell_type": "code",
   "execution_count": 15,
   "id": "6b063dde-05b5-4607-a882-ebf16cb5b927",
   "metadata": {},
   "outputs": [
    {
     "name": "stdout",
     "output_type": "stream",
     "text": [
      "Item found at index 8\n",
      "363 ns ± 7.07 ns per loop (mean ± std. dev. of 7 runs, 1,000,000 loops each)\n"
     ]
    }
   ],
   "source": [
    "def lin_search(list, item):\n",
    "    for element in list:\n",
    "        if element == item:\n",
    "            return list.index(element)\n",
    "    return -1\n",
    "\n",
    "\n",
    "list = [2,5,8,12,16,23,38,56,72,91]\n",
    "\n",
    "print(\"Item found at index\" ,lin_search(list, 72))\n",
    "%timeit lin_search(list,72)"
   ]
  },
  {
   "cell_type": "markdown",
   "id": "b580d03b-34d5-495d-a691-f1bbbd933e07",
   "metadata": {},
   "source": [
    "### Binary Search\n",
    "\n",
    "Description: An efficient algorithm that works on sorted arrays by repeatedly dividing the search interval in half. This is an example of \"divide and conquer\" style of design: split large problem to smaller, and once subproblem is solved, it is collected to form solution to a larger problem.\n",
    "\n",
    "```python\n",
    "def binary_search(arr, x):\n",
    "    low = 0\n",
    "    high = len(arr) - 1\n",
    "    mid = 0\n",
    "    while low <= high:\n",
    "        mid = (high + low) // 2\n",
    "        if arr[mid] < x:\n",
    "            low = mid + 1\n",
    "        elif arr[mid] > x:\n",
    "            high = mid - 1\n",
    "        else:\n",
    "            return mid\n",
    "    return -1\n",
    "```\n",
    "\n",
    "This algorithm recursively searches for the middlemost item in the current array. Depending on whether the searched item is greater or smaller than this item, the search will continue in the corresponding subarray: If the item to be searched is smaller, then the left subarray is searched. If it is greater, the search continues in the right subarray.\n",
    "\n",
    "Suppose the algorithm makes $k$ comparisons before returning the search result. At every step, the length of the sublist is halved, so the length of the searchable list will be $n/2^k$ when the search ends. This means that there is only one item to be compared anymore, so at $k^{th}$ step, we have $n/2^k = 1$. This yields $n=2^k$, and finally $\\log(n) = k$. Thus, this algorithm ends in logarithmic time."
   ]
  },
  {
   "cell_type": "code",
   "execution_count": 12,
   "id": "4a396498-21cd-48cb-8320-425189a52160",
   "metadata": {},
   "outputs": [
    {
     "name": "stdout",
     "output_type": "stream",
     "text": [
      "Item found at index 8\n",
      "361 ns ± 3.69 ns per loop (mean ± std. dev. of 7 runs, 1,000,000 loops each)\n"
     ]
    }
   ],
   "source": [
    "def binary_search(arr, x):\n",
    "    low = 0\n",
    "    high = len(arr) - 1\n",
    "    mid = 0\n",
    "    while low <= high:\n",
    "        mid = (high + low) // 2\n",
    "        if arr[mid] < x:\n",
    "            low = mid + 1\n",
    "        elif arr[mid] > x:\n",
    "            high = mid - 1\n",
    "        else:\n",
    "            return mid\n",
    "    return -1\n",
    "\n",
    "list = [2,5,8,12,16,23,38,56,72,91]\n",
    "print(\"Item found at index\",binary_search(list,72))\n",
    "%timeit binary_search(list,72)"
   ]
  },
  {
   "cell_type": "markdown",
   "id": "68e4e13f-e9e2-40dc-9276-e1e99dc346d1",
   "metadata": {},
   "source": [
    "### Interpolation Search\n",
    "\n",
    "**Description:** An improvement over binary search for instances where the values in a sorted array are uniformly distributed.\n",
    "\n",
    "This algorithm makes an educated guess where the searched item is located in the list. Then, the algorithm attempts to navigate towards the correct location by comparing the neighbor values.\n",
    "\n",
    "```python\n",
    "def interpolation_search(arr, x):\n",
    "    low = 0\n",
    "    high = len(arr) - 1\n",
    "    while low <= high and x >= arr[low] and x <= arr[high]:\n",
    "        index = low + int(((float(high - low) / (arr[high] - arr[low])) * (x - arr[low])))\n",
    "        if arr[index] == x:\n",
    "            return index\n",
    "        if arr[index] < x:\n",
    "            low = index + 1\n",
    "        else:\n",
    "            high = index - 1\n",
    "    return -1\n",
    "```\n",
    "\n",
    "Complexity analysis: Here, the time complexity is $\\mathcal{O}(\\log\\log (n))$. This is a bit harder to explain intuitively, but this is the result of making the educated guesses that quickly convert to the correct target value if the collection is uniformly distributed. This has to do with the probability of the value being located in certain spot at the uniformly distributed, sorted list (this is enough for you to know)."
   ]
  },
  {
   "cell_type": "code",
   "execution_count": 19,
   "id": "1cee105f-b562-45cb-a65d-933cbda1e415",
   "metadata": {},
   "outputs": [
    {
     "name": "stdout",
     "output_type": "stream",
     "text": [
      "Item found at index 8\n",
      "682 ns ± 12.8 ns per loop (mean ± std. dev. of 7 runs, 1,000,000 loops each)\n"
     ]
    }
   ],
   "source": [
    "def interpolation_search(arr, x):\n",
    "    low = 0\n",
    "    high = len(arr) - 1\n",
    "    while low <= high and x >= arr[low] and x <= arr[high]:\n",
    "        index = low + int(((float(high - low) / (arr[high] - arr[low])) * (x - arr[low])))\n",
    "        if arr[index] == x:\n",
    "            return index\n",
    "        if arr[index] < x:\n",
    "            low = index + 1\n",
    "        else:\n",
    "            high = index - 1\n",
    "    return -1\n",
    "\n",
    "list = [2,5,8,12,16,23,38,56,72,91]\n",
    "print(\"Item found at index\",interpolation_search(list,72))\n",
    "%timeit interpolation_search(list,72)"
   ]
  },
  {
   "cell_type": "markdown",
   "id": "d87728b3-f01a-4160-a917-a6f1f89fa504",
   "metadata": {},
   "source": [
    "### Complexity Analysis of search algorithms\n",
    "\n",
    "Linear Search: O(n)\n",
    "\n",
    "Binary Search: O(log n)\n",
    "\n",
    "Interpolation Search: O(log log n) under uniform distribution conditions."
   ]
  },
  {
   "cell_type": "markdown",
   "id": "e4e2ec93-b79f-4d70-a0a5-f8b445fada4f",
   "metadata": {},
   "source": [
    "# Sorting algorithms\n",
    "\n",
    "### Types of sort algorithms\n",
    "* Bubble\n",
    "* Merge\n",
    "* Insertion\n",
    "* Shell\n",
    "* Selection\n",
    "\n",
    "### Bubble sort\n",
    "\n",
    "The idea is pass through the list several times and let a certain element to traverse in the list to its right place: keep swapping elements until you reach a value that is greater. The element traverses in the list like a bubble, until it hits an obstacle.\n",
    "\n",
    "```python\n",
    "def bubble_sort(arr):\n",
    "    n = len(arr)\n",
    "    for i in range(n):\n",
    "        for j in range(0, n-i-1):\n",
    "            if arr[j] > arr[j+1]:\n",
    "                arr[j], arr[j+1] = arr[j+1], arr[j]\n",
    "```\n",
    "\n",
    "At worst, the list is in opposite order, meaning that both for loops need to be entered as many times as their full range is. This yields quadratic time complexity!\n",
    "\n",
    "**Complexity:** $\\mathcal{O}(n^2)$"
   ]
  },
  {
   "cell_type": "code",
   "execution_count": 20,
   "id": "52c9a244-809c-43f9-9557-a169287e60e5",
   "metadata": {},
   "outputs": [
    {
     "name": "stdout",
     "output_type": "stream",
     "text": [
      "Sorted: [1, 2, 4, 5, 8]\n",
      "1.44 µs ± 51.2 ns per loop (mean ± std. dev. of 7 runs, 1,000,000 loops each)\n"
     ]
    }
   ],
   "source": [
    "def bubble_sort(arr):\n",
    "    n = len(arr)\n",
    "    for i in range(n):\n",
    "        for j in range(0, n-i-1):\n",
    "            if arr[j] > arr[j+1]:\n",
    "                arr[j], arr[j+1] = arr[j+1], arr[j]\n",
    "    return arr\n",
    "\n",
    "list = [5,1,4,2,8]\n",
    "\n",
    "print(\"Sorted:\", bubble_sort(list))\n",
    "\n",
    "%timeit bubble_sort(list)"
   ]
  },
  {
   "cell_type": "markdown",
   "id": "dc7c4728-0c01-4187-a3e4-07330e481e52",
   "metadata": {},
   "source": [
    "## Merge Sort\n",
    "\n",
    "**Description:** A divide-and-conquer algorithm that divides the array into halves, sorts each half, and then merges them back together.\n",
    "\n",
    "```python\n",
    "def merge_sort(arr):\n",
    "    if len(arr) > 1:\n",
    "        mid = len(arr)//2\n",
    "        L = arr[:mid]\n",
    "        R = arr[mid:]\n",
    "        merge_sort(L)\n",
    "        merge_sort(R)\n",
    "        i = j = k = 0\n",
    "        while i < len(L) and j < len(R):\n",
    "            if L[i] < R[j]:\n",
    "                arr[k] = L[i]\n",
    "                i += 1\n",
    "            else:\n",
    "                arr[k] = R[j]\n",
    "                j += 1\n",
    "            k += 1\n",
    "        while i < len(L):\n",
    "            arr[k] = L[i]\n",
    "            i += 1\n",
    "            k += 1\n",
    "        while j < len(R):\n",
    "            arr[k] = R[j]\n",
    "            j += 1\n",
    "            k += 1\n",
    "```\n",
    "\n",
    "Complexity Analysis: $\\mathcal{O}(n \\log n)$ in all cases.\n",
    "\n",
    "The divide step requires $\\log(n)$ halving operations, and then the list is merged in conquer phase at $n$ steps, making the total complexity to be linearithmic, i.e. $n\\log(n)$ in all cases."
   ]
  },
  {
   "cell_type": "code",
   "execution_count": 22,
   "id": "efbf5568-b382-45aa-a26a-3f7573eb7622",
   "metadata": {},
   "outputs": [
    {
     "name": "stdout",
     "output_type": "stream",
     "text": [
      "Sorted: [1, 2, 4, 5, 8]\n",
      "4.41 µs ± 69.2 ns per loop (mean ± std. dev. of 7 runs, 100,000 loops each)\n"
     ]
    }
   ],
   "source": [
    "def merge_sort(arr):\n",
    "    if len(arr) > 1:\n",
    "        mid = len(arr)//2\n",
    "        L = arr[:mid]\n",
    "        R = arr[mid:]\n",
    "        merge_sort(L)\n",
    "        merge_sort(R)\n",
    "        i = j = k = 0\n",
    "        while i < len(L) and j < len(R):\n",
    "            if L[i] < R[j]:\n",
    "                arr[k] = L[i]\n",
    "                i += 1\n",
    "            else:\n",
    "                arr[k] = R[j]\n",
    "                j += 1\n",
    "            k += 1\n",
    "        while i < len(L):\n",
    "            arr[k] = L[i]\n",
    "            i += 1\n",
    "            k += 1\n",
    "        while j < len(R):\n",
    "            arr[k] = R[j]\n",
    "            j += 1\n",
    "            k += 1\n",
    "    return arr\n",
    "\n",
    "list = [5,1,4,2,8]\n",
    "\n",
    "print(\"Sorted:\", merge_sort(list))\n",
    "\n",
    "%timeit merge_sort(list)"
   ]
  },
  {
   "cell_type": "markdown",
   "id": "5d9b5c0e-1718-4abc-9b0a-99853a1126cd",
   "metadata": {},
   "source": [
    "## Shell sort\n",
    "\n",
    "**Description:** An in-place comparison sort that generalizes insertion sort to allow the exchange of items far apart. The idea is to arrange the list of elements so that, starting anywhere, taking every $h^{th}$ element produces a sorted list.\n",
    "\n",
    "The idea is that the algorithm first finds elements that are $n//2$ units apart from each other and checks whether the items should be swapped. After swapping, the interval is reduced to $n//4$ and the swapping operation is repeated. Once the gap becomes only one unit, then insertion sort is applied to sort the rest of the list.\n",
    "\n",
    "```python\n",
    "def shell_sort(arr):\n",
    "    n = len(arr)\n",
    "    gap = n // 2\n",
    "    while gap > 0:\n",
    "        for i in range(gap, n):\n",
    "            temp = arr[i]\n",
    "            j = i\n",
    "            while  j >= gap and arr[j - gap] > temp:\n",
    "                arr[j] = arr[j - gap]\n",
    "                j -= gap\n",
    "            arr[j] = temp\n",
    "        gap //= 2\n",
    "```\n",
    "\n",
    "**Complexity Analysis:** Varies between $\\mathcal{O}(n)$ and $\\mathcal{O}(n^2)$ depending on the gap sequence, with a common average of $\\mathcal{O}(n^{1.5})$."
   ]
  },
  {
   "cell_type": "code",
   "execution_count": 27,
   "id": "1c48fc39-6a73-45fd-978a-30a74cdad647",
   "metadata": {},
   "outputs": [
    {
     "name": "stdout",
     "output_type": "stream",
     "text": [
      "Sorted: [8, 12, 17, 25, 31, 33, 40, 42]\n",
      "2.26 µs ± 21.3 ns per loop (mean ± std. dev. of 7 runs, 100,000 loops each)\n"
     ]
    }
   ],
   "source": [
    "def shell_sort(arr):\n",
    "    n = len(arr)\n",
    "    gap = n // 2\n",
    "    while gap > 0:\n",
    "        for i in range(gap, n):\n",
    "            temp = arr[i]\n",
    "            j = i\n",
    "            while  j >= gap and arr[j - gap] > temp:\n",
    "                arr[j] = arr[j - gap]\n",
    "                j -= gap\n",
    "            arr[j] = temp\n",
    "        gap //= 2\n",
    "    return arr\n",
    "    \n",
    "list = [33,31,40,8,12,17,25,42]\n",
    "\n",
    "\n",
    "print(\"Sorted:\", shell_sort(list))\n",
    "\n",
    "%timeit shell_sort(list)"
   ]
  },
  {
   "cell_type": "markdown",
   "id": "3555f3d7-d15f-4070-8e92-17d9fcdbe106",
   "metadata": {},
   "source": [
    "## Selection Sort\n",
    "\n",
    "**Description:** Simple sorting algorithm that divides the input list into two parts: the sublist of items already sorted, which is built up from left to right at the front (left) of the list, and the sublist of items remaining to be sorted that occupy the rest of the list.\n",
    "\n",
    "This algorithm always locates the index where the current minimum value is and relocates it to the start of the unsorted list. The sublist in front is already sorted, and after relocation, the new item is included in the sorted sublist, and the algorithm finds the next minimum value and checks if it requires relocation in the list.\n",
    "\n",
    "```python\n",
    "def selection_sort(arr):\n",
    "    for i in range(len(arr)):\n",
    "        min_idx = i\n",
    "        for j in range(i+1, len(arr)):\n",
    "            if arr[j] < arr[min_idx]:\n",
    "                min_idx = j\n",
    "        arr[i], arr[min_idx] = arr[min_idx], arr[i]\n",
    "```\n",
    "\n",
    "**Complexity Analysis:** $\\mathcal{O}(n^2)$ as there are two nested loops."
   ]
  },
  {
   "cell_type": "code",
   "execution_count": 25,
   "id": "b862a10d-7e16-4f1e-a5c0-a3d9ed7fbef2",
   "metadata": {},
   "outputs": [
    {
     "name": "stdout",
     "output_type": "stream",
     "text": [
      "Sorted: [1, 2, 4, 5, 8]\n",
      "3.12 µs ± 563 ns per loop (mean ± std. dev. of 7 runs, 100,000 loops each)\n"
     ]
    }
   ],
   "source": [
    "def selection_sort(arr):\n",
    "    for i in range(len(arr)):\n",
    "        min_idx = i\n",
    "        for j in range(i+1, len(arr)):\n",
    "            if arr[j] < arr[min_idx]:\n",
    "                min_idx = j\n",
    "        arr[i], arr[min_idx] = arr[min_idx], arr[i]\n",
    "    return arr\n",
    "\n",
    "list = [5,1,4,2,8]\n",
    "\n",
    "print(\"Sorted:\", selection_sort(list))\n",
    "\n",
    "%timeit selection_sort(list)"
   ]
  },
  {
   "cell_type": "markdown",
   "id": "6f5bab4e-9d31-4f17-bc1d-712b9bb2c9d6",
   "metadata": {},
   "source": [
    "## Links for further reading\n",
    "[1] https://medium.com/@matthew1992/everything-about-sorting-and-searching-algorithms-68f3a6a4259\n",
    "\n",
    "[2] https://visualgo.net/en/sorting?slide=1\n",
    "\n",
    "[3] https://www.javatpoint.com/data-structure-tutorialhttps://www.javatpoint.com/data-structure-tutorial\n",
    "\n",
    "[4] https://www.youtube.com/watch?v=kPRA0W1kECg (video visualising different sorting algorithms, a really cool one!)"
   ]
  }
 ],
 "metadata": {
  "kernelspec": {
   "display_name": "Python 3 (ipykernel)",
   "language": "python",
   "name": "python3"
  },
  "language_info": {
   "codemirror_mode": {
    "name": "ipython",
    "version": 3
   },
   "file_extension": ".py",
   "mimetype": "text/x-python",
   "name": "python",
   "nbconvert_exporter": "python",
   "pygments_lexer": "ipython3",
   "version": "3.10.13"
  }
 },
 "nbformat": 4,
 "nbformat_minor": 5
}
