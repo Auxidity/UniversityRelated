{
 "cells": [
  {
   "cell_type": "markdown",
   "id": "cfec8cc3-b644-470a-9e5c-770a5cc84ecf",
   "metadata": {
    "tags": []
   },
   "source": [
    "# Exercises for Week 3: Basic data types, recursion, iteration\n",
    "\n",
    "In this set of exercises you will be introduced to further algorithms which can be implemented either using iteration or recursion. Your task is to analyze in each case, which of the implementations is more effective. Also try to reason why."
   ]
  },
  {
   "cell_type": "markdown",
   "id": "3bd960d2-81a2-458c-95ca-445c9af39241",
   "metadata": {
    "jp-MarkdownHeadingCollapsed": true,
    "tags": []
   },
   "source": [
    "## Task 1: Factorial\n",
    "\n",
    "Factorial is a well-known and widely used combinatorial function.\n",
    "It tells the number of ways one can place $n$ elements in a row.\n",
    "\n",
    "The factorial function is defined so that\n",
    "$$0! = 1$$\n",
    "$$1! = 1$$\n",
    "$$ n! = n\\cdot (n-1)\\cdot \\ldots \\cdot 2\\cdot 1$$\n",
    "\n",
    "a) Write an iterative algorithm computing the factorial of user given n.\n",
    "b) Write a recursive algorithm computing the factorial of user given n.\n",
    "c) Compare the runtime of both by using Jupyter's built-in tool **%timeit**."
   ]
  },
  {
   "cell_type": "markdown",
   "id": "fcf8a2ce-1f0f-44cc-8c2e-bb8fbb67e789",
   "metadata": {
    "jp-MarkdownHeadingCollapsed": true,
    "tags": []
   },
   "source": [
    "## Task 2: Fibonacci sequence\n",
    "\n",
    "Fibonacci sequence is a very famous number sequence starting with elements 1, 1, 2, 3, 5, 8, 13, ...\n",
    "\n",
    "The number series is formed in such a manner that the next element in the series will be obtained by adding the current element with the previous element, i.e.\n",
    "\n",
    "next = current + previous\n",
    "\n",
    "If you use symbols for the elements in the number list, then you can use the following notation\n",
    "\n",
    "1, 1, 2, 3, 5, 8, 13, ...\n",
    "\n",
    "$F_1$, $F_2$, $F_3$, $F_4$, $F_5$, $F_6$, $F_7$, ...\n",
    "\n",
    "So, in the sequence you will get $F_8$(next) by taking $F_7$ (current) and $F_6$ (previous).\n",
    "\n",
    "$F_8=F_7+F_6=13+8+=21$\n",
    "\n",
    "Your task is to write an algorithm\n",
    "1) that recursively computes the element in the Fibonacci series, given the index number\n",
    "2) that iteratively does the same thing"
   ]
  },
  {
   "cell_type": "markdown",
   "id": "9154e69f-59a0-4b8b-af6c-ed569707c245",
   "metadata": {
    "jp-MarkdownHeadingCollapsed": true,
    "tags": []
   },
   "source": [
    "## Task 3: Arithmetic sequence and sum\n",
    "\n",
    "Arithmetic sequence is a number sequence, such that the difference $d$ is constant for every consecutive element in the sequence. For example, the sequence\n",
    "\n",
    "$1, 4, 7, 10, \\ldots$ is arithmetic, since the difference between every consecutive element in the sequence is $3$: $10-7 = 7-4 = 4-1=3$.\n",
    "However, sequence\n",
    "\n",
    "$1,3,6,10, \\ldots$ is not arithmetic, since the difference varies: $10-6 = 4$, $6-3=3$ and $3-1=2$.\n",
    "\n",
    "In general, an arithmetic sequence can be defined in the following manner:\n",
    "$a_n = a_0 + (n-1)\\cdot d$\n",
    "where $a_n$ represents the $n^{th}$ element in the sequence, $a_0$ is the first element in the sequence and $d$ is the difference.\n",
    "\n",
    "For example, if $a_1=-4$ and $d=2$, then the sequence will be as follows\n",
    "$$a_1 = -4$$\n",
    "$$a_2 = -4 + (2-1)\\cdot 2= -4 + 2 = -2$$\n",
    "$$a_3 = -4 + ((3-1)\\cdot 2 = -4 + 2\\cdot 2 = -4+4 = 0$$\n",
    "... and so on.\n",
    "\n",
    "Here, your task is to write an algorithm\n",
    "1) That calculates the nth element of the sequence, given the first element, difference and the element index. There are (at least) three different ways of implementing it. Recursive, iterative, using the formula. Try to write all three versions of the same algorithm and then compare the running time of each.\n",
    "2) That calculates the sum of all n elements of the sequence, given the first element, the difference and number n. Again, there are (at least) three different ways to implement the same algorithm. Write the code and then compare."
   ]
  },
  {
   "cell_type": "code",
   "execution_count": null,
   "id": "a3e97f45-7d63-4510-8910-0d94d1d61a68",
   "metadata": {},
   "outputs": [],
   "source": []
  }
 ],
 "metadata": {
  "kernelspec": {
   "display_name": "Python 3 (ipykernel)",
   "language": "python",
   "name": "python3"
  },
  "language_info": {
   "codemirror_mode": {
    "name": "ipython",
    "version": 3
   },
   "file_extension": ".py",
   "mimetype": "text/x-python",
   "name": "python",
   "nbconvert_exporter": "python",
   "pygments_lexer": "ipython3",
   "version": "3.9.13"
  }
 },
 "nbformat": 4,
 "nbformat_minor": 5
}
